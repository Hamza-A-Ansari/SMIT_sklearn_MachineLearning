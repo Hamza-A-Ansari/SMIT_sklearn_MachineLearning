{
 "cells": [
  {
   "cell_type": "markdown",
   "id": "027f1f41",
   "metadata": {},
   "source": [
    "# Decision Tree Classifier  "
   ]
  },
  {
   "cell_type": "markdown",
   "id": "d5dc6a4f",
   "metadata": {},
   "source": [
    "### Load libraries"
   ]
  },
  {
   "cell_type": "code",
   "execution_count": 4,
   "id": "10602654",
   "metadata": {},
   "outputs": [],
   "source": [
    "import pandas as pd\n",
    "import numpy as np\n",
    "\n",
    "from sklearn.tree import DecisionTreeClassifier # Import Decision Tree Classifier\n",
    "from sklearn.model_selection import train_test_split # Import train_test_split function\n",
    "from sklearn import metrics #Import scikit-learn metrics module for accuracy calculation\n",
    "\n",
    "from sklearn import tree\n",
    "import matplotlib.pyplot as plt"
   ]
  },
  {
   "cell_type": "markdown",
   "id": "d6d16437",
   "metadata": {},
   "source": [
    "### Creating DataFrame"
   ]
  },
  {
   "cell_type": "code",
   "execution_count": 5,
   "id": "a58840ba",
   "metadata": {},
   "outputs": [
    {
     "data": {
      "text/html": [
       "<div>\n",
       "<style scoped>\n",
       "    .dataframe tbody tr th:only-of-type {\n",
       "        vertical-align: middle;\n",
       "    }\n",
       "\n",
       "    .dataframe tbody tr th {\n",
       "        vertical-align: top;\n",
       "    }\n",
       "\n",
       "    .dataframe thead th {\n",
       "        text-align: right;\n",
       "    }\n",
       "</style>\n",
       "<table border=\"1\" class=\"dataframe\">\n",
       "  <thead>\n",
       "    <tr style=\"text-align: right;\">\n",
       "      <th></th>\n",
       "      <th>s1</th>\n",
       "      <th>s2</th>\n",
       "      <th>s3</th>\n",
       "      <th>s4</th>\n",
       "      <th>s5</th>\n",
       "    </tr>\n",
       "  </thead>\n",
       "  <tbody>\n",
       "    <tr>\n",
       "      <th>0</th>\n",
       "      <td>23</td>\n",
       "      <td>25</td>\n",
       "      <td>29</td>\n",
       "      <td>25</td>\n",
       "      <td>24</td>\n",
       "    </tr>\n",
       "    <tr>\n",
       "      <th>1</th>\n",
       "      <td>30</td>\n",
       "      <td>22</td>\n",
       "      <td>26</td>\n",
       "      <td>25</td>\n",
       "      <td>25</td>\n",
       "    </tr>\n",
       "    <tr>\n",
       "      <th>2</th>\n",
       "      <td>26</td>\n",
       "      <td>22</td>\n",
       "      <td>22</td>\n",
       "      <td>25</td>\n",
       "      <td>20</td>\n",
       "    </tr>\n",
       "    <tr>\n",
       "      <th>3</th>\n",
       "      <td>26</td>\n",
       "      <td>26</td>\n",
       "      <td>31</td>\n",
       "      <td>21</td>\n",
       "      <td>31</td>\n",
       "    </tr>\n",
       "    <tr>\n",
       "      <th>4</th>\n",
       "      <td>29</td>\n",
       "      <td>25</td>\n",
       "      <td>25</td>\n",
       "      <td>26</td>\n",
       "      <td>29</td>\n",
       "    </tr>\n",
       "  </tbody>\n",
       "</table>\n",
       "</div>"
      ],
      "text/plain": [
       "   s1  s2  s3  s4  s5\n",
       "0  23  25  29  25  24\n",
       "1  30  22  26  25  25\n",
       "2  26  22  22  25  20\n",
       "3  26  26  31  21  31\n",
       "4  29  25  25  26  29"
      ]
     },
     "execution_count": 5,
     "metadata": {},
     "output_type": "execute_result"
    }
   ],
   "source": [
    "df1 = pd.DataFrame(np.random.randint(20,32, size=(5000,5)),\n",
    "                 columns=['s1','s2','s3','s4','s5'])\n",
    "df2 = pd.DataFrame(np.random.randint(33,39, size=(5000,5)),\n",
    "                 columns=['s1','s2','s3','s4','s5'])\n",
    "df3 = pd.DataFrame(np.random.randint(40,49, size=(5000,5)),\n",
    "                 columns=['s1','s2','s3','s4','s5'])\n",
    "df4 = pd.DataFrame(np.random.randint(50,59, size=(5000,5)),\n",
    "                 columns=['s1','s2','s3','s4','s5'])\n",
    "df5 = pd.DataFrame(np.random.randint(60,69, size=(5000,5)),\n",
    "                 columns=['s1','s2','s3','s4','s5'])\n",
    "df6 = pd.DataFrame(np.random.randint(70,79, size=(5000,5)),\n",
    "                 columns=['s1','s2','s3','s4','s5'])\n",
    "df7 = pd.DataFrame(np.random.randint(80,100, size=(5000,5)),\n",
    "                 columns=['s1','s2','s3','s4','s5'])\n",
    "\n",
    "df = pd.concat([df1,df2,df3,df4,df5,df6,df7])\n",
    "\n",
    "\n",
    "\n",
    "df.head()"
   ]
  },
  {
   "cell_type": "code",
   "execution_count": 7,
   "id": "84265fbc",
   "metadata": {},
   "outputs": [
    {
     "data": {
      "text/html": [
       "<div>\n",
       "<style scoped>\n",
       "    .dataframe tbody tr th:only-of-type {\n",
       "        vertical-align: middle;\n",
       "    }\n",
       "\n",
       "    .dataframe tbody tr th {\n",
       "        vertical-align: top;\n",
       "    }\n",
       "\n",
       "    .dataframe thead th {\n",
       "        text-align: right;\n",
       "    }\n",
       "</style>\n",
       "<table border=\"1\" class=\"dataframe\">\n",
       "  <thead>\n",
       "    <tr style=\"text-align: right;\">\n",
       "      <th></th>\n",
       "      <th>s1</th>\n",
       "      <th>s2</th>\n",
       "      <th>s3</th>\n",
       "      <th>s4</th>\n",
       "      <th>s5</th>\n",
       "      <th>obtained</th>\n",
       "    </tr>\n",
       "  </thead>\n",
       "  <tbody>\n",
       "    <tr>\n",
       "      <th>0</th>\n",
       "      <td>23</td>\n",
       "      <td>25</td>\n",
       "      <td>29</td>\n",
       "      <td>25</td>\n",
       "      <td>24</td>\n",
       "      <td>126</td>\n",
       "    </tr>\n",
       "    <tr>\n",
       "      <th>1</th>\n",
       "      <td>30</td>\n",
       "      <td>22</td>\n",
       "      <td>26</td>\n",
       "      <td>25</td>\n",
       "      <td>25</td>\n",
       "      <td>128</td>\n",
       "    </tr>\n",
       "    <tr>\n",
       "      <th>2</th>\n",
       "      <td>26</td>\n",
       "      <td>22</td>\n",
       "      <td>22</td>\n",
       "      <td>25</td>\n",
       "      <td>20</td>\n",
       "      <td>115</td>\n",
       "    </tr>\n",
       "    <tr>\n",
       "      <th>3</th>\n",
       "      <td>26</td>\n",
       "      <td>26</td>\n",
       "      <td>31</td>\n",
       "      <td>21</td>\n",
       "      <td>31</td>\n",
       "      <td>135</td>\n",
       "    </tr>\n",
       "    <tr>\n",
       "      <th>4</th>\n",
       "      <td>29</td>\n",
       "      <td>25</td>\n",
       "      <td>25</td>\n",
       "      <td>26</td>\n",
       "      <td>29</td>\n",
       "      <td>134</td>\n",
       "    </tr>\n",
       "  </tbody>\n",
       "</table>\n",
       "</div>"
      ],
      "text/plain": [
       "   s1  s2  s3  s4  s5  obtained\n",
       "0  23  25  29  25  24       126\n",
       "1  30  22  26  25  25       128\n",
       "2  26  22  22  25  20       115\n",
       "3  26  26  31  21  31       135\n",
       "4  29  25  25  26  29       134"
      ]
     },
     "execution_count": 7,
     "metadata": {},
     "output_type": "execute_result"
    }
   ],
   "source": [
    "df['obtained'] = df.s1 + df.s2 + df.s3 + df.s4 + df.s5\n",
    "df.head()"
   ]
  },
  {
   "cell_type": "code",
   "execution_count": 8,
   "id": "b8006a51",
   "metadata": {},
   "outputs": [
    {
     "data": {
      "text/html": [
       "<div>\n",
       "<style scoped>\n",
       "    .dataframe tbody tr th:only-of-type {\n",
       "        vertical-align: middle;\n",
       "    }\n",
       "\n",
       "    .dataframe tbody tr th {\n",
       "        vertical-align: top;\n",
       "    }\n",
       "\n",
       "    .dataframe thead th {\n",
       "        text-align: right;\n",
       "    }\n",
       "</style>\n",
       "<table border=\"1\" class=\"dataframe\">\n",
       "  <thead>\n",
       "    <tr style=\"text-align: right;\">\n",
       "      <th></th>\n",
       "      <th>s1</th>\n",
       "      <th>s2</th>\n",
       "      <th>s3</th>\n",
       "      <th>s4</th>\n",
       "      <th>s5</th>\n",
       "      <th>obtained</th>\n",
       "      <th>percentage</th>\n",
       "    </tr>\n",
       "  </thead>\n",
       "  <tbody>\n",
       "    <tr>\n",
       "      <th>0</th>\n",
       "      <td>23</td>\n",
       "      <td>25</td>\n",
       "      <td>29</td>\n",
       "      <td>25</td>\n",
       "      <td>24</td>\n",
       "      <td>126</td>\n",
       "      <td>25.2</td>\n",
       "    </tr>\n",
       "    <tr>\n",
       "      <th>1</th>\n",
       "      <td>30</td>\n",
       "      <td>22</td>\n",
       "      <td>26</td>\n",
       "      <td>25</td>\n",
       "      <td>25</td>\n",
       "      <td>128</td>\n",
       "      <td>25.6</td>\n",
       "    </tr>\n",
       "    <tr>\n",
       "      <th>2</th>\n",
       "      <td>26</td>\n",
       "      <td>22</td>\n",
       "      <td>22</td>\n",
       "      <td>25</td>\n",
       "      <td>20</td>\n",
       "      <td>115</td>\n",
       "      <td>23.0</td>\n",
       "    </tr>\n",
       "    <tr>\n",
       "      <th>3</th>\n",
       "      <td>26</td>\n",
       "      <td>26</td>\n",
       "      <td>31</td>\n",
       "      <td>21</td>\n",
       "      <td>31</td>\n",
       "      <td>135</td>\n",
       "      <td>27.0</td>\n",
       "    </tr>\n",
       "    <tr>\n",
       "      <th>4</th>\n",
       "      <td>29</td>\n",
       "      <td>25</td>\n",
       "      <td>25</td>\n",
       "      <td>26</td>\n",
       "      <td>29</td>\n",
       "      <td>134</td>\n",
       "      <td>26.8</td>\n",
       "    </tr>\n",
       "  </tbody>\n",
       "</table>\n",
       "</div>"
      ],
      "text/plain": [
       "   s1  s2  s3  s4  s5  obtained  percentage\n",
       "0  23  25  29  25  24       126        25.2\n",
       "1  30  22  26  25  25       128        25.6\n",
       "2  26  22  22  25  20       115        23.0\n",
       "3  26  26  31  21  31       135        27.0\n",
       "4  29  25  25  26  29       134        26.8"
      ]
     },
     "execution_count": 8,
     "metadata": {},
     "output_type": "execute_result"
    }
   ],
   "source": [
    "df['percentage'] = df.obtained / 500 * 100\n",
    "df.head()"
   ]
  },
  {
   "cell_type": "code",
   "execution_count": 9,
   "id": "c092d8bb",
   "metadata": {},
   "outputs": [
    {
     "data": {
      "text/html": [
       "<div>\n",
       "<style scoped>\n",
       "    .dataframe tbody tr th:only-of-type {\n",
       "        vertical-align: middle;\n",
       "    }\n",
       "\n",
       "    .dataframe tbody tr th {\n",
       "        vertical-align: top;\n",
       "    }\n",
       "\n",
       "    .dataframe thead th {\n",
       "        text-align: right;\n",
       "    }\n",
       "</style>\n",
       "<table border=\"1\" class=\"dataframe\">\n",
       "  <thead>\n",
       "    <tr style=\"text-align: right;\">\n",
       "      <th></th>\n",
       "      <th>s1</th>\n",
       "      <th>s2</th>\n",
       "      <th>s3</th>\n",
       "      <th>s4</th>\n",
       "      <th>s5</th>\n",
       "      <th>obtained</th>\n",
       "      <th>percentage</th>\n",
       "      <th>Grade</th>\n",
       "    </tr>\n",
       "  </thead>\n",
       "  <tbody>\n",
       "    <tr>\n",
       "      <th>0</th>\n",
       "      <td>23</td>\n",
       "      <td>25</td>\n",
       "      <td>29</td>\n",
       "      <td>25</td>\n",
       "      <td>24</td>\n",
       "      <td>126</td>\n",
       "      <td>25.2</td>\n",
       "      <td>F</td>\n",
       "    </tr>\n",
       "    <tr>\n",
       "      <th>1</th>\n",
       "      <td>30</td>\n",
       "      <td>22</td>\n",
       "      <td>26</td>\n",
       "      <td>25</td>\n",
       "      <td>25</td>\n",
       "      <td>128</td>\n",
       "      <td>25.6</td>\n",
       "      <td>F</td>\n",
       "    </tr>\n",
       "    <tr>\n",
       "      <th>2</th>\n",
       "      <td>26</td>\n",
       "      <td>22</td>\n",
       "      <td>22</td>\n",
       "      <td>25</td>\n",
       "      <td>20</td>\n",
       "      <td>115</td>\n",
       "      <td>23.0</td>\n",
       "      <td>F</td>\n",
       "    </tr>\n",
       "    <tr>\n",
       "      <th>3</th>\n",
       "      <td>26</td>\n",
       "      <td>26</td>\n",
       "      <td>31</td>\n",
       "      <td>21</td>\n",
       "      <td>31</td>\n",
       "      <td>135</td>\n",
       "      <td>27.0</td>\n",
       "      <td>F</td>\n",
       "    </tr>\n",
       "    <tr>\n",
       "      <th>4</th>\n",
       "      <td>29</td>\n",
       "      <td>25</td>\n",
       "      <td>25</td>\n",
       "      <td>26</td>\n",
       "      <td>29</td>\n",
       "      <td>134</td>\n",
       "      <td>26.8</td>\n",
       "      <td>F</td>\n",
       "    </tr>\n",
       "  </tbody>\n",
       "</table>\n",
       "</div>"
      ],
      "text/plain": [
       "   s1  s2  s3  s4  s5  obtained  percentage Grade\n",
       "0  23  25  29  25  24       126        25.2     F\n",
       "1  30  22  26  25  25       128        25.6     F\n",
       "2  26  22  22  25  20       115        23.0     F\n",
       "3  26  26  31  21  31       135        27.0     F\n",
       "4  29  25  25  26  29       134        26.8     F"
      ]
     },
     "execution_count": 9,
     "metadata": {},
     "output_type": "execute_result"
    }
   ],
   "source": [
    "def grade(x):\n",
    "    if x >= 80:\n",
    "        return \"A+\"\n",
    "    elif x >= 70:\n",
    "        return \"A\"\n",
    "    elif x >= 60:\n",
    "        return \"B\"\n",
    "    elif x >= 50:\n",
    "        return \"C\"\n",
    "    elif x >= 40:\n",
    "        return \"D\"\n",
    "    elif x >= 33:\n",
    "        return \"E\"\n",
    "    else:\n",
    "        return \"F\"\n",
    "    \n",
    "df['Grade'] = df.percentage.apply(grade)\n",
    "df.head()"
   ]
  },
  {
   "cell_type": "markdown",
   "id": "21c02ac0",
   "metadata": {},
   "source": [
    "### Split dataset in features and target variable"
   ]
  },
  {
   "cell_type": "code",
   "execution_count": 10,
   "id": "d343814a",
   "metadata": {},
   "outputs": [],
   "source": [
    "X = df['percentage'] # Features\n",
    "Y = df['Grade'] # Target variable"
   ]
  },
  {
   "cell_type": "code",
   "execution_count": 11,
   "id": "9757ab62",
   "metadata": {},
   "outputs": [
    {
     "data": {
      "text/plain": [
       "0    25.2\n",
       "1    25.6\n",
       "2    23.0\n",
       "3    27.0\n",
       "4    26.8\n",
       "Name: percentage, dtype: float64"
      ]
     },
     "execution_count": 11,
     "metadata": {},
     "output_type": "execute_result"
    }
   ],
   "source": [
    "X.head()"
   ]
  },
  {
   "cell_type": "code",
   "execution_count": 12,
   "id": "386e3a2e",
   "metadata": {},
   "outputs": [
    {
     "data": {
      "text/plain": [
       "0    F\n",
       "1    F\n",
       "2    F\n",
       "3    F\n",
       "4    F\n",
       "Name: Grade, dtype: object"
      ]
     },
     "execution_count": 12,
     "metadata": {},
     "output_type": "execute_result"
    }
   ],
   "source": [
    "Y.head()"
   ]
  },
  {
   "cell_type": "markdown",
   "id": "de6cf0f9",
   "metadata": {},
   "source": [
    "### Converting Pandas series into 2D array"
   ]
  },
  {
   "cell_type": "code",
   "execution_count": 13,
   "id": "5d9bc82c",
   "metadata": {},
   "outputs": [],
   "source": [
    "X = np.array(X).reshape(-1,1)\n",
    "Y = np.array(Y).reshape(-1,1)"
   ]
  },
  {
   "cell_type": "markdown",
   "id": "baadf327",
   "metadata": {},
   "source": [
    "### Split dataset into training set and test set"
   ]
  },
  {
   "cell_type": "code",
   "execution_count": 14,
   "id": "5ec6e8d1",
   "metadata": {},
   "outputs": [],
   "source": [
    "X_train, X_test, y_train, y_test = train_test_split(X, Y, test_size=0.3, random_state=1) # 70% training and 30% testing data"
   ]
  },
  {
   "cell_type": "markdown",
   "id": "9cc6ff92",
   "metadata": {},
   "source": [
    "### Create Decision Tree classifier object"
   ]
  },
  {
   "cell_type": "code",
   "execution_count": 15,
   "id": "dcc12a0e",
   "metadata": {},
   "outputs": [],
   "source": [
    "clf = DecisionTreeClassifier()"
   ]
  },
  {
   "cell_type": "markdown",
   "id": "139b0b0d",
   "metadata": {},
   "source": [
    "### Train Decision Tree Classifier Model"
   ]
  },
  {
   "cell_type": "code",
   "execution_count": 16,
   "id": "5e9557d0",
   "metadata": {},
   "outputs": [],
   "source": [
    "clf_model = clf.fit(X_train, y_train)"
   ]
  },
  {
   "cell_type": "markdown",
   "id": "a65672e9",
   "metadata": {},
   "source": [
    "### Predict the response for test dataset"
   ]
  },
  {
   "cell_type": "code",
   "execution_count": 17,
   "id": "3196f7ab",
   "metadata": {},
   "outputs": [],
   "source": [
    "y_pred = clf.predict(X_test)"
   ]
  },
  {
   "cell_type": "markdown",
   "id": "44f79788",
   "metadata": {},
   "source": [
    "### Model Accuracy, how often is the classifier correct?"
   ]
  },
  {
   "cell_type": "code",
   "execution_count": 18,
   "id": "122212e1",
   "metadata": {},
   "outputs": [
    {
     "name": "stdout",
     "output_type": "stream",
     "text": [
      "Accuracy: 1.0\n"
     ]
    }
   ],
   "source": [
    "print(\"Accuracy:\",metrics.accuracy_score(y_test, y_pred)) "
   ]
  },
  {
   "cell_type": "markdown",
   "id": "c352417c",
   "metadata": {},
   "source": [
    "Comment: Accuracy of our model is 100%"
   ]
  },
  {
   "cell_type": "markdown",
   "id": "7426db85",
   "metadata": {},
   "source": [
    "### Plot our Decision Tree"
   ]
  },
  {
   "cell_type": "code",
   "execution_count": 19,
   "id": "f0737d88",
   "metadata": {},
   "outputs": [
    {
     "data": {
      "text/plain": [
       "[Text(651.0, 996.6, 'X[0] <= 79.0\\ngini = 0.857\\nsamples = 24500\\nvalue = [3520, 3543, 3516, 3469, 3505, 3494, 3453]\\nclass = y[1]'),\n",
       " Text(558.0, 815.4000000000001, 'X[0] <= 68.8\\ngini = 0.833\\nsamples = 20957\\nvalue = [3520, 0, 3516, 3469, 3505, 3494, 3453]\\nclass = y[0]'),\n",
       " Text(465.0, 634.2, 'X[0] <= 59.1\\ngini = 0.8\\nsamples = 17437\\nvalue = [0, 0, 3516, 3469, 3505, 3494, 3453]\\nclass = y[2]'),\n",
       " Text(372.0, 453.0, 'X[0] <= 39.1\\ngini = 0.75\\nsamples = 13921\\nvalue = [0, 0, 0, 3469, 3505, 3494, 3453]\\nclass = y[4]'),\n",
       " Text(186.0, 271.79999999999995, 'X[0] <= 32.0\\ngini = 0.5\\nsamples = 6947\\nvalue = [0, 0, 0, 0, 0, 3494, 3453]\\nclass = y[5]'),\n",
       " Text(93.0, 90.59999999999991, 'gini = 0.0\\nsamples = 3453\\nvalue = [0, 0, 0, 0, 0, 0, 3453]\\nclass = y[6]'),\n",
       " Text(279.0, 90.59999999999991, 'gini = 0.0\\nsamples = 3494\\nvalue = [0, 0, 0, 0, 0, 3494, 0]\\nclass = y[5]'),\n",
       " Text(558.0, 271.79999999999995, 'X[0] <= 48.9\\ngini = 0.5\\nsamples = 6974\\nvalue = [0, 0, 0, 3469, 3505, 0, 0]\\nclass = y[4]'),\n",
       " Text(465.0, 90.59999999999991, 'gini = 0.0\\nsamples = 3505\\nvalue = [0, 0, 0, 0, 3505, 0, 0]\\nclass = y[4]'),\n",
       " Text(651.0, 90.59999999999991, 'gini = 0.0\\nsamples = 3469\\nvalue = [0, 0, 0, 3469, 0, 0, 0]\\nclass = y[3]'),\n",
       " Text(558.0, 453.0, 'gini = 0.0\\nsamples = 3516\\nvalue = [0, 0, 3516, 0, 0, 0, 0]\\nclass = y[2]'),\n",
       " Text(651.0, 634.2, 'gini = 0.0\\nsamples = 3520\\nvalue = [3520, 0, 0, 0, 0, 0, 0]\\nclass = y[0]'),\n",
       " Text(744.0, 815.4000000000001, 'gini = 0.0\\nsamples = 3543\\nvalue = [0, 3543, 0, 0, 0, 0, 0]\\nclass = y[1]')]"
      ]
     },
     "execution_count": 19,
     "metadata": {},
     "output_type": "execute_result"
    },
    {
     "data": {
      "image/png": "[encoded data removed]",
      "text/plain": [
       "<Figure size 1080x1440 with 1 Axes>"
      ]
     },
     "metadata": {
      "needs_background": "light"
     },
     "output_type": "display_data"
    }
   ],
   "source": [
    "plt.figure(figsize=(15, 20))\n",
    "tree.plot_tree(clf, filled = tree, class_names = True, fontsize = 8)"
   ]
  },
  {
   "cell_type": "code",
   "execution_count": null,
   "id": "1c337fc3",
   "metadata": {},
   "outputs": [],
   "source": []
  }
 ],
 "metadata": {
  "kernelspec": {
   "display_name": "Python 3",
   "language": "python",
   "name": "python3"
  },
  "language_info": {
   "codemirror_mode": {
    "name": "ipython",
    "version": 3
   },
   "file_extension": ".py",
   "mimetype": "text/x-python",
   "name": "python",
   "nbconvert_exporter": "python",
   "pygments_lexer": "ipython3",
   "version": "3.8.8"
  }
 },
 "nbformat": 4,
 "nbformat_minor": 5
}
